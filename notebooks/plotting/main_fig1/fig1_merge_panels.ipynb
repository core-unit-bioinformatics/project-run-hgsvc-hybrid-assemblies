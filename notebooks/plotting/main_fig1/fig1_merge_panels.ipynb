{
 "cells": [
  {
   "cell_type": "code",
   "execution_count": 15,
   "id": "6e25f397-3a87-435f-b630-8ab4285d0f5e",
   "metadata": {
    "scrolled": true
   },
   "outputs": [
    {
     "name": "stdout",
     "output_type": "stream",
     "text": [
      "verkko 98.82\n",
      "verkko 98.00515384615385\n",
      "verkko 98.82\n",
      "verkko 98.00515384615385\n"
     ]
    }
   ],
   "source": [
    "import pathlib\n",
    "import functools\n",
    "import matplotlib.pyplot as plt\n",
    "\n",
    "%cd -q \"/home/ebertp/work/code/cubi/project-run-hgsvc-hybrid-assemblies/notebooks\"\n",
    "_PROJECT_CONFIG_NB = str(pathlib.Path(\"00_project_config.ipynb\").resolve(strict=True))\n",
    "_PLOT_CONFIG_NB = str(pathlib.Path(\"05_plot_config.ipynb\").resolve(strict=True))\n",
    "\n",
    "%run $_PROJECT_CONFIG_NB\n",
    "%run $_PLOT_CONFIG_NB\n",
    "\n",
    "%run plotting/main_fig1/input-read-summary.ipynb\n",
    "%run plotting/main_fig1/plot-scaffold-aun.ipynb\n",
    "%run plotting/main_fig1/plot-qv-estimates.ipynb\n",
    "%run plotting/main_fig1/plot-t2t-chrom.ipynb\n",
    "%run plotting/main_fig1/plot-busco-scores.ipynb\n",
    "%run plotting/sample-summary.ipynb\n",
    "\n",
    "import matplotlib as mpl\n",
    "import matplotlib.pyplot as plt\n",
    "import pickle as pkl\n",
    "\n",
    "import pathlib as pl\n",
    "\n",
    "_MY_OUT_PATH = PLOT_OUT_MAIN_FIG1\n",
    "\n",
    "fig1, axd = plt.subplot_mosaic(\n",
    "    [\n",
    "        [\"panel_color\", \"panel_readcov\", \"panel_hifi_n50\", \"panel_ontul_n50\"],\n",
    "        [\"panel_aun\", \"panel_qvest\", \"panel_gene\", \"panel_gene\"],\n",
    "        [\"panel_t2tmat\", \"panel_t2tmat\", \"panel_t2tbar\", \"panel_t2tbar\"]\n",
    "    ],\n",
    "    layout=\"constrained\",\n",
    "    figsize=(18,14),\n",
    "    sharex=False,\n",
    "    sharey=False,\n",
    "    height_ratios=[1,1,1],\n",
    "    width_ratios=[1.25,1.25,0.75,0.75]\n",
    ")\n",
    "\n",
    "color_panel_ax = population_legend_matrix(axd[\"panel_color\"])\n",
    "color_panel_ax.text(-0.5, -0.75, \"a\", fontsize=MPL_PANEL_LABEL_SIZE, fontweight=\"bold\")\n",
    "\n",
    "read_cov_panel_ax = get_read_cov_panel(axd[\"panel_readcov\"])\n",
    "read_cov_panel_ax.text(0.72, 115, \"b\", fontsize=MPL_PANEL_LABEL_SIZE, fontweight=\"bold\")\n",
    "\n",
    "hifi_n50_panel_ax = get_hifi_n50_panel(axd[\"panel_hifi_n50\"])\n",
    "hifi_n50_panel_ax.text(0.75, 22, \"c\", fontsize=MPL_PANEL_LABEL_SIZE, fontweight=\"bold\")\n",
    "\n",
    "ont_n50_panel_ax = get_ontul_n50_panel(axd[\"panel_ontul_n50\"])\n",
    "ont_n50_panel_ax.text(0.75, 242, \"d\", fontsize=MPL_PANEL_LABEL_SIZE, fontweight=\"bold\")\n",
    "\n",
    "scaff_aun_panel_ax = plot_hap_vs_hap(axd[\"panel_aun\"])\n",
    "scaff_aun_panel_ax.text(101,160, \"e\", fontsize=MPL_PANEL_LABEL_SIZE, fontweight=\"bold\")\n",
    "\n",
    "qv_est_panel_ax = plot_sample_vs_sample_qv(axd[\"panel_qvest\"])\n",
    "qv_est_panel_ax.text(50.25, 63, \"f\", fontsize=MPL_PANEL_LABEL_SIZE, fontweight=\"bold\")\n",
    "\n",
    "busco_panel_ax = get_busco_panel(axd[\"panel_gene\"])\n",
    "busco_panel_ax.text(1, 101.5, \"g\", fontsize=MPL_PANEL_LABEL_SIZE, fontweight=\"bold\")\n",
    "\n",
    "t2t_mat_panel_ax = get_t2t_matrix(axd[\"panel_t2tmat\"])\n",
    "t2t_mat_panel_ax.text(0.5, 25, \"h\", fontsize=MPL_PANEL_LABEL_SIZE, fontweight=\"bold\")\n",
    "\n",
    "t2t_bar_panel_ax = get_t2t_barchart(axd[\"panel_t2tbar\"])\n",
    "t2t_bar_panel_ax.text(0.5, 25, \"i\", fontsize=MPL_PANEL_LABEL_SIZE, fontweight=\"bold\")\n",
    "\n",
    "\n",
    "for ext in DEFAULT_PLOT_EXT:\n",
    "    out_path = _MY_OUT_PATH.joinpath(f\"fig1_main.{ext}\")\n",
    "    save_figure(out_path, fig1)\n",
    "plt.close()"
   ]
  }
 ],
 "metadata": {
  "kernelspec": {
   "display_name": "Python 3 (ipykernel)",
   "language": "python",
   "name": "python3"
  },
  "language_info": {
   "codemirror_mode": {
    "name": "ipython",
    "version": 3
   },
   "file_extension": ".py",
   "mimetype": "text/x-python",
   "name": "python",
   "nbconvert_exporter": "python",
   "pygments_lexer": "ipython3",
   "version": "3.10.8"
  }
 },
 "nbformat": 4,
 "nbformat_minor": 5
}
