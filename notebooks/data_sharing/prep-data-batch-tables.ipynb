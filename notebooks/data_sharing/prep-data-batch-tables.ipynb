{
 "cells": [
  {
   "cell_type": "code",
   "execution_count": 24,
   "id": "e6487268",
   "metadata": {},
   "outputs": [],
   "source": [
    "import pathlib as pl\n",
    "import pandas as pd\n",
    "\n",
    "existing_files_table = pl.Path(\n",
    "    \"/home/ebertp/work/code/cubi/project-run-hgsvc-hybrid-assemblies/annotations/autogen\",\n",
    "    \"existing_files.tsv\"\n",
    ")\n",
    "\n",
    "existing_files = pd.read_csv(existing_files_table, header=0, sep=\"\\t\", comment=\"#\")\n",
    "\n",
    "read_stats_file = pl.Path(\n",
    "    \"/home/ebertp/work/projects/hgsvc/2023_batch_data_tables\",\n",
    "    \"hgsvc3_batch1_read_stats.tsv\"\n",
    ")\n",
    "\n",
    "read_stats = pd.read_csv(read_stats_file, header=0, sep=\"\\t\")\n",
    "\n",
    "if \"batch1\" in read_stats_file.name:\n",
    "    out_batch_summary_table = pl.Path(\n",
    "        \"/home/ebertp/work/projects/hgsvc/2023_batch_data_tables\",\n",
    "        \"HGSVC3_data_batch1_file_details.tsv\"\n",
    "    )\n",
    "elif \"batch2\" in read_stats_file.name:\n",
    "    out_batch_summary_table = pl.Path(\n",
    "        \"/home/ebertp/work/projects/hgsvc/2023_batch_data_tables\",\n",
    "        \"HGSVC3_data_batch2_file_details.tsv\"\n",
    "    )\n",
    "else:\n",
    "    raise\n",
    "\n",
    "file_sources = []\n",
    "for row in read_stats.itertuples(index=True):\n",
    "    if row.source == \"all\":\n",
    "        file_sources.append(\"full_dataset\")\n",
    "        continue\n",
    "    short_source = row.source.split(\".\")[0]\n",
    "    matched = existing_files.loc[existing_files[\"file_name\"].str.contains(short_source), :]\n",
    "    if matched.empty:\n",
    "        raise ValueError(short_source)\n",
    "    if matched.shape[0] > 1:\n",
    "        raise ValueError(f\"{short_source} - {matched}\")\n",
    "    file_path = matched[\"file_path\"].values[0]\n",
    "    file_path = file_path.split(\"/\", 3)[-1]\n",
    "    file_sources.append(file_path)\n",
    "    \n",
    "file_sources = pd.DataFrame(file_sources, index=read_stats.index, columns=[\"rel_path\"])\n",
    "\n",
    "read_stats = pd.concat([read_stats, file_sources], axis=1, ignore_index=False)\n",
    "\n",
    "read_stats.to_csv(out_batch_summary_table, sep=\"\\t\", header=True, index=False)"
   ]
  }
 ],
 "metadata": {
  "kernelspec": {
   "display_name": "Python 3 (ipykernel)",
   "language": "python",
   "name": "python3"
  },
  "language_info": {
   "codemirror_mode": {
    "name": "ipython",
    "version": 3
   },
   "file_extension": ".py",
   "mimetype": "text/x-python",
   "name": "python",
   "nbconvert_exporter": "python",
   "pygments_lexer": "ipython3",
   "version": "3.9.15"
  }
 },
 "nbformat": 4,
 "nbformat_minor": 5
}
