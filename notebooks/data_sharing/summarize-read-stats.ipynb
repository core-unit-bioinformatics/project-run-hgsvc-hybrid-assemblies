{
 "cells": [
  {
   "cell_type": "code",
   "execution_count": 8,
   "id": "b1baa93f",
   "metadata": {},
   "outputs": [],
   "source": [
    "import pathlib as pl\n",
    "import pandas as pd\n",
    "\n",
    "data_folder = pl.Path(\"/home/ebertp/work/projects/hgsvc/2023_batch_data_tables/batch1/read_stats\")\n",
    "\n",
    "table_batch1 = pl.Path(\"/home/ebertp/work/projects/hgsvc/2023_batch_data_tables/hgsvc3_batch1_read_stats.tsv\")\n",
    "\n",
    "select_stats = [\n",
    "    \"total_length_grt_0bp\",\n",
    "    \"total_num_grt_0bp\",\n",
    "    \"cov_xfold_grt_0bp_at_3Gbp\",\n",
    "    \"length_N50_grt_0bp\",\n",
    "    \"total_length_grt_15kbp\",\n",
    "    \"total_num_grt_15kbp\",\n",
    "    \"cov_xfold_grt_15kbp_at_3Gbp\",\n",
    "    \"total_length_grt_100kbp\",\n",
    "    \"total_num_grt_100kbp\",\n",
    "    \"length_N50_grt_100kbp\",\n",
    "    \"cov_xfold_grt_100kbp_at_3Gbp\",\n",
    "]\n",
    "\n",
    "\n",
    "merged_read_stats = []\n",
    "\n",
    "for table_file in data_folder.glob(\"*.tsv\"):\n",
    "    sample, read_type = table_file.name.split(\".\")[0].split(\"_\")\n",
    "    if sample in [\"HG00733red1\", \"HG00733red2\"]:\n",
    "        continue\n",
    "    assert read_type in [\"hifi\", \"ont\"]\n",
    "    df = pd.read_csv(table_file, header=0, sep=\"\\t\")\n",
    "    df[\"sample\"] = sample\n",
    "    df[\"read_type\"] = read_type\n",
    "    \n",
    "    df = df.loc[df[\"statistic\"].isin(select_stats), :].copy()\n",
    "    merged_read_stats.append(df)\n",
    "    \n",
    "merged_read_stats = pd.concat(merged_read_stats, axis=0, ignore_index=False)\n",
    "merged_read_stats.sort_values([\"sample\", \"read_type\", \"source\", \"statistic\"], inplace=True)\n",
    "\n",
    "merged_read_stats.to_csv(table_batch1, sep=\"\\t\", header=0, index=False)"
   ]
  }
 ],
 "metadata": {
  "kernelspec": {
   "display_name": "Python 3 (ipykernel)",
   "language": "python",
   "name": "python3"
  },
  "language_info": {
   "codemirror_mode": {
    "name": "ipython",
    "version": 3
   },
   "file_extension": ".py",
   "mimetype": "text/x-python",
   "name": "python",
   "nbconvert_exporter": "python",
   "pygments_lexer": "ipython3",
   "version": "3.9.15"
  }
 },
 "nbformat": 4,
 "nbformat_minor": 5
}
