{
 "cells": [
  {
   "cell_type": "code",
   "execution_count": 1,
   "id": "e7aaa41e",
   "metadata": {},
   "outputs": [
    {
     "ename": "AssertionError",
     "evalue": "Pandas(order_num=17, sample='NA12329', sex='Female', hifi_complete='yes', ont_complete='no', igsr_status='complete', sample_batch=2, is_pilot=0)",
     "output_type": "error",
     "traceback": [
      "\u001b[0;31m---------------------------------------------------------------------------\u001b[0m",
      "\u001b[0;31mAssertionError\u001b[0m                            Traceback (most recent call last)",
      "Cell \u001b[0;32mIn[1], line 22\u001b[0m\n\u001b[1;32m     20\u001b[0m     \u001b[38;5;28;01mcontinue\u001b[39;00m\n\u001b[1;32m     21\u001b[0m \u001b[38;5;28;01mif\u001b[39;00m row\u001b[38;5;241m.\u001b[39mhifi_complete \u001b[38;5;241m==\u001b[39m \u001b[38;5;124m\"\u001b[39m\u001b[38;5;124mno\u001b[39m\u001b[38;5;124m\"\u001b[39m \u001b[38;5;129;01mor\u001b[39;00m row\u001b[38;5;241m.\u001b[39mont_complete \u001b[38;5;241m==\u001b[39m \u001b[38;5;124m\"\u001b[39m\u001b[38;5;124mno\u001b[39m\u001b[38;5;124m\"\u001b[39m:\n\u001b[0;32m---> 22\u001b[0m     \u001b[38;5;28;01massert\u001b[39;00m row\u001b[38;5;241m.\u001b[39migsr_status \u001b[38;5;241m==\u001b[39m \u001b[38;5;124m\"\u001b[39m\u001b[38;5;124mincomplete\u001b[39m\u001b[38;5;124m\"\u001b[39m, row\n\u001b[1;32m     23\u001b[0m \u001b[38;5;28;01mif\u001b[39;00m row\u001b[38;5;241m.\u001b[39mhifi_complete \u001b[38;5;241m==\u001b[39m \u001b[38;5;124m\"\u001b[39m\u001b[38;5;124myes\u001b[39m\u001b[38;5;124m\"\u001b[39m \u001b[38;5;129;01mand\u001b[39;00m row\u001b[38;5;241m.\u001b[39mont_complete \u001b[38;5;241m==\u001b[39m \u001b[38;5;124m\"\u001b[39m\u001b[38;5;124myes\u001b[39m\u001b[38;5;124m\"\u001b[39m:\n\u001b[1;32m     24\u001b[0m     \u001b[38;5;28;01massert\u001b[39;00m row\u001b[38;5;241m.\u001b[39migsr_status \u001b[38;5;241m==\u001b[39m \u001b[38;5;124m\"\u001b[39m\u001b[38;5;124mcomplete\u001b[39m\u001b[38;5;124m\"\u001b[39m\n",
      "\u001b[0;31mAssertionError\u001b[0m: Pandas(order_num=17, sample='NA12329', sex='Female', hifi_complete='yes', ont_complete='no', igsr_status='complete', sample_batch=2, is_pilot=0)"
     ]
    }
   ],
   "source": [
    "%run \"../00_project_config.ipynb\"\n",
    "%run \"10_data_objects.ipynb\"\n",
    "\n",
    "import pandas as pd\n",
    "import pathlib as pl\n",
    "import sys\n",
    "\n",
    "data_status_annotation = PROJECT_BASE.joinpath(\n",
    "    \"annotations\", \"projectmng\", \"data_production_status.tsv\"\n",
    ")\n",
    "\n",
    "data_status_df = pd.read_csv(data_status_annotation, sep=\"\\t\", header=0, comment=\"#\")\n",
    "\n",
    "DATA_STATUS = dict()\n",
    "for row in data_status_df.itertuples(index=False):\n",
    "    if row.sample == \"GM19320\":\n",
    "        sys.stderr.write(\"\\nSkipping over 19320 - not enough data\\n\")\n",
    "        continue\n",
    "    if row.hifi_complete == \"skip\" or row.ont_complete == \"skip\" or row.igsr_status == \"skip\":\n",
    "        continue\n",
    "    if row.hifi_complete == \"no\" or row.ont_complete == \"no\":\n",
    "        assert row.igsr_status == \"incomplete\", row\n",
    "    if row.hifi_complete == \"yes\" and row.ont_complete == \"yes\":\n",
    "        assert row.igsr_status == \"complete\"\n",
    "    sample_name = row.sample\n",
    "    if sample_name.startswith(\"GM\"):\n",
    "        sample_name = \"NA\" + sample_name[2:]\n",
    "    sample_info = {\n",
    "        \"order_num\": int(row.order_num),\n",
    "        \"sex\": row.sex.lower(),\n",
    "        \"batch_number\": int(row.sample_batch),\n",
    "        \"is_pilot_sample\": row.is_pilot,\n",
    "        \"hifi_complete\": True if row.hifi_complete == \"yes\" else False,\n",
    "        \"ont_complete\": True if row.ont_complete == \"yes\" else False\n",
    "    }\n",
    "    DATA_STATUS[sample_name] = sample_info\n",
    "\n",
    "SAMPLES = dict()\n",
    "for row in HGSVC_SAMPLES.itertuples(index=False):\n",
    "    if row.sample == \"GM19320\":\n",
    "        sys.stderr.write(\"\\nSkipping over 19320 - not enough data\\n\")\n",
    "        continue\n",
    "    sample = Sample(row.sample, row.order_num, row.sex)\n",
    "    try:\n",
    "        sample_data_status = DATA_STATUS[sample.name]\n",
    "        assert sample_data_status[\"order_num\"] == sample.hgsvc_num\n",
    "        assert sample_data_status[\"sex\"] == sample.sex\n",
    "        sample.hifi_complete = sample_data_status[\"hifi_complete\"]\n",
    "        sample.ont_complete = sample_data_status[\"ont_complete\"]\n",
    "        sample.batch_num = sample_data_status[\"batch_number\"]\n",
    "    except KeyError:\n",
    "        pass\n",
    "    SAMPLES[sample.name] = sample\n",
    "    SAMPLES[sample.alt] = sample\n",
    "\n",
    "\n",
    "ADD_SAMPLES = [\n",
    "    (\"NA24143\", 100, \"female\"),\n",
    "    (\"NA24149\", 101, \"male\"),\n",
    "    (\"NA12878\", 102, \"female\")\n",
    "]\n",
    "\n",
    "for sample_name, num, sex in ADD_SAMPLES:\n",
    "    sample = Sample(sample_name, num, sex)\n",
    "    SAMPLES[sample.name] = sample\n",
    "    SAMPLES[sample.alt] = sample\n",
    "    \n"
   ]
  }
 ],
 "metadata": {
  "kernelspec": {
   "display_name": "Python 3 (ipykernel)",
   "language": "python",
   "name": "python3"
  },
  "language_info": {
   "codemirror_mode": {
    "name": "ipython",
    "version": 3
   },
   "file_extension": ".py",
   "mimetype": "text/x-python",
   "name": "python",
   "nbconvert_exporter": "python",
   "pygments_lexer": "ipython3",
   "version": "3.9.15"
  }
 },
 "nbformat": 4,
 "nbformat_minor": 5
}
