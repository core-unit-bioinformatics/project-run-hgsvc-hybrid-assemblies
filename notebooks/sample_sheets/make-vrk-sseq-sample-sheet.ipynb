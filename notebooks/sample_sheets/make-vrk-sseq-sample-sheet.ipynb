{
 "cells": [
  {
   "cell_type": "code",
   "execution_count": 1,
   "id": "bea9c61b",
   "metadata": {},
   "outputs": [
    {
     "name": "stdout",
     "output_type": "stream",
     "text": [
      "Series([], Name: sample, dtype: object)\n"
     ]
    }
   ],
   "source": [
    "import pathlib as pl\n",
    "import pandas as pd\n",
    "\n",
    "local_mount = pl.Path(\n",
    "    \"/mounts/hilbert/project\"\n",
    ")\n",
    "\n",
    "gaf_paths_folder = local_mount.joinpath(\n",
    "    \"projects/medbioinf/projects/mihen108/test_wd/rukki/\"\n",
    ")\n",
    "\n",
    "sample_sheet_file = pl.Path(\n",
    "    \"../samples/vrk_samples.tsv\"\n",
    ")\n",
    "\n",
    "sample_sheet = pd.read_csv(\n",
    "    sample_sheet_file, sep=\"\\t\",\n",
    "    header=0\n",
    ")\n",
    "\n",
    "gaf_files = dict()\n",
    "for path_file in local_mount.joinpath(gaf_paths_folder).glob(\"**/*_rukki_paths.gaf\"):\n",
    "    sample = path_file.name.split(\"_\")[0]\n",
    "    if not path_file.is_file():\n",
    "        gaf_files[sample] = \"n/a\"\n",
    "        continue\n",
    "    remote_file_path = str(path_file).replace(str(local_mount), \"/gpfs/project\")\n",
    "    gaf_files[sample] = remote_file_path\n",
    "    \n",
    "sample_sheet[\"target\"] = \"sseq\"\n",
    "sample_sheet[\"phasing_paths\"] = \"n/a\"\n",
    "sample_sheet[\"phasing_paths\"] = sample_sheet[\"sample\"].replace(gaf_files)\n",
    "\n",
    "drop_samples = [\n",
    "    \"HG00733red1\",\n",
    "    \"HG00733red2\",\n",
    "    \"HG00733R1\",\n",
    "    \"HG00733R2\"\n",
    "]\n",
    "\n",
    "# drop benchmark samples\n",
    "sample_sheet = sample_sheet.loc[~sample_sheet[\"sample\"].isin(drop_samples), :].copy()\n",
    "\n",
    "print(sample_sheet.loc[sample_sheet[\"sample\"] == sample_sheet[\"phasing_paths\"], \"sample\"])\n",
    "# remove samples w/o phasing paths\n",
    "sample_sheet = sample_sheet.loc[sample_sheet[\"sample\"] != sample_sheet[\"phasing_paths\"], :].copy()\n",
    "\n",
    "sample_sheet = sample_sheet[[\"sample\", \"target\", \"phasing_paths\", \"hifi\", \"ont\"]]\n",
    "\n",
    "\n",
    "sseq_sample_sheet_file = pl.Path(\n",
    "    \"../samples/vrk_sseq_samples.tsv\"\n",
    ")\n",
    "\n",
    "sample_sheet.to_csv(\n",
    "    sseq_sample_sheet_file, sep=\"\\t\", header=True, index=False\n",
    ")\n",
    "\n"
   ]
  }
 ],
 "metadata": {
  "kernelspec": {
   "display_name": "Python 3 (ipykernel)",
   "language": "python",
   "name": "python3"
  },
  "language_info": {
   "codemirror_mode": {
    "name": "ipython",
    "version": 3
   },
   "file_extension": ".py",
   "mimetype": "text/x-python",
   "name": "python",
   "nbconvert_exporter": "python",
   "pygments_lexer": "ipython3",
   "version": "3.9.15"
  }
 },
 "nbformat": 4,
 "nbformat_minor": 5
}
