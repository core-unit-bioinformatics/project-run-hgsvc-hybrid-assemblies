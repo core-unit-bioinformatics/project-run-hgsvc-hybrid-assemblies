{
 "cells": [
  {
   "cell_type": "code",
   "execution_count": 8,
   "id": "36b39b85",
   "metadata": {},
   "outputs": [
    {
     "name": "stdout",
     "output_type": "stream",
     "text": [
      "/home/ebertp/work/code/cubi/project-run-hgsvc-hybrid-assemblies/samples/special_runs/cephped_all.tsv\n"
     ]
    }
   ],
   "source": [
    "import pathlib as pl\n",
    "import pandas as pd\n",
    "import collections as col\n",
    "\n",
    "MOUNT_PREFIX = pl.Path(\"/mounts/hilbert/project\")\n",
    "\n",
    "REMOTE_PREFIX = \"/gpfs/project\"\n",
    "\n",
    "data_path = pl.Path(\n",
    "    \"projects/medbioinf/data/00_RESTRUCTURE/project-centric/ceph_pedigree/2024-01/assemblies/males\"\n",
    ")\n",
    "\n",
    "sample_infos = col.defaultdict(dict)\n",
    "\n",
    "def make_remote(file_path):\n",
    "    \n",
    "    file_path = str(file_path)\n",
    "    file_path = file_path.replace(str(MOUNT_PREFIX), REMOTE_PREFIX)\n",
    "    return file_path\n",
    "\n",
    "\n",
    "for fasta_file in MOUNT_PREFIX.joinpath(data_path).glob(\"**/*.fasta\"):\n",
    "    filename = fasta_file.name\n",
    "    sample_id = fasta_file.parents[1].name\n",
    "    assert sample_id.startswith(\"NA\")\n",
    "    sample_id = f\"{sample_id}-CEPH\"\n",
    "    if \"hap1\" in filename or \"haplotype1\" in filename:\n",
    "        asm_unit = \"hap1\"\n",
    "    elif \"hap2\" in filename or \"haplotype2\" in filename:\n",
    "        asm_unit = \"hap2\"\n",
    "    elif \"unassigned\" in filename:\n",
    "        asm_unit = \"unassigned\"\n",
    "    else:\n",
    "        print(f\"skipping over {fasta_file}\")\n",
    "        continue\n",
    "    sample_infos[sample_id][asm_unit] = make_remote(fasta_file)\n",
    "    \n",
    "sample_sheet = [(k, d[\"hap1\"], d[\"hap2\"], d[\"unassigned\"]) for k, d in sample_infos.items()]\n",
    "\n",
    "sample_sheet = pd.DataFrame.from_records(\n",
    "    sample_sheet,\n",
    "    columns=[\"sample\", \"asm_hap1\", \"asm_hap2\", \"asm_unassigned\"]\n",
    ")\n",
    "sample_sheet.sort_values(\"sample\", inplace=True)\n",
    "sample_sheet[\"family\"] = 1463\n",
    "sample_sheet[\"sex\"] = \"male\"\n",
    "\n",
    "out_tsv = pl.Path(\"../../samples/special_runs/cephped_all.tsv\").resolve()\n",
    "print(out_tsv)\n",
    "\n",
    "with open(out_tsv, \"w\") as dump:\n",
    "    _ = dump.write(\"# 202400214T1648\\n\")\n",
    "    sample_sheet.to_csv(dump, sep=\"\\t\", header=True, index=False)\n",
    "\n",
    "\n",
    "\n"
   ]
  }
 ],
 "metadata": {
  "kernelspec": {
   "display_name": "Python 3 (ipykernel)",
   "language": "python",
   "name": "python3"
  },
  "language_info": {
   "codemirror_mode": {
    "name": "ipython",
    "version": 3
   },
   "file_extension": ".py",
   "mimetype": "text/x-python",
   "name": "python",
   "nbconvert_exporter": "python",
   "pygments_lexer": "ipython3",
   "version": "3.9.15"
  }
 },
 "nbformat": 4,
 "nbformat_minor": 5
}
