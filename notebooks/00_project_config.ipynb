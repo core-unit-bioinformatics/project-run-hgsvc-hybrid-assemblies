{
 "cells": [
  {
   "cell_type": "code",
   "execution_count": 4,
   "id": "ba6b416c",
   "metadata": {},
   "outputs": [],
   "source": [
    "import pathlib as pl\n",
    "import datetime as dt\n",
    "import pandas as pd\n",
    "\n",
    "LOCAL_BASE = \"/home/ebertp/work/code/cubi/project-run-hgsvc-hybrid-assemblies\"\n",
    "\n",
    "PROJECT_BASE = pl.Path(LOCAL_BASE).resolve()\n",
    "\n",
    "_ts = dt.datetime.now()\n",
    "TIMESTAMP = _ts.strftime(\"%Y%m%dT%H%M\")\n",
    "TSNOW = TIMESTAMP\n",
    "TODAY = TIMESTAMP\n",
    "\n",
    "HGSVC_SAMPLES_TABLE = PROJECT_BASE.joinpath(\n",
    "    \"annotations\", \"projectmng\", \"hgsvc_samples.tsv\"\n",
    ")\n",
    "\n",
    "HGSVC_SAMPLES = pd.read_csv(HGSVC_SAMPLES_TABLE, comment=\"#\", sep=\"\\t\", header=0)\n",
    "HGSVC_SAMPLES[\"sex\"] = HGSVC_SAMPLES[\"sex\"].str.lower()\n",
    "HGSVC_SAMPLES[\"member\"] = HGSVC_SAMPLES[\"member\"].str.lower()\n",
    "HGSVC_SAMPLES[\"is_child\"] = HGSVC_SAMPLES[\"member\"].apply(lambda x: x in [\"son\", \"daughter\", \"child\"])\n",
    "HGSVC_SAMPLES[\"sample\"] = HGSVC_SAMPLES[\"sample\"].str.replace(\"GM\", \"NA\")\n"
   ]
  }
 ],
 "metadata": {
  "kernelspec": {
   "display_name": "Python 3 (ipykernel)",
   "language": "python",
   "name": "python3"
  },
  "language_info": {
   "codemirror_mode": {
    "name": "ipython",
    "version": 3
   },
   "file_extension": ".py",
   "mimetype": "text/x-python",
   "name": "python",
   "nbconvert_exporter": "python",
   "pygments_lexer": "ipython3",
   "version": "3.9.15"
  }
 },
 "nbformat": 4,
 "nbformat_minor": 5
}
