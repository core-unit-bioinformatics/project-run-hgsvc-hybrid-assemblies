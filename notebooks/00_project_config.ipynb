{
 "cells": [
  {
   "cell_type": "code",
   "execution_count": null,
   "id": "ba6b416c",
   "metadata": {},
   "outputs": [],
   "source": [
    "import pathlib as pl\n",
    "import datetime as dt\n",
    "\n",
    "LOCAL_BASE = \"/home/ebertp/work/code/cubi/project-run-hgsvc-hybrid-assemblies\"\n",
    "\n",
    "PROJECT_BASE = pl.Path(LOCAL_BASE).resolve()\n",
    "\n",
    "_ts = dt.datetime.now()\n",
    "TIMESTAMP = _ts.strftime(\"%Y%m%dT%H%M\")\n",
    "TSNOW = TIMESTAMP\n",
    "TODAY = TIMESTAMP\n"
   ]
  }
 ],
 "metadata": {
  "kernelspec": {
   "display_name": "Python 3 (ipykernel)",
   "language": "python",
   "name": "python3"
  },
  "language_info": {
   "codemirror_mode": {
    "name": "ipython",
    "version": 3
   },
   "file_extension": ".py",
   "mimetype": "text/x-python",
   "name": "python",
   "nbconvert_exporter": "python",
   "pygments_lexer": "ipython3",
   "version": "3.9.15"
  }
 },
 "nbformat": 4,
 "nbformat_minor": 5
}
