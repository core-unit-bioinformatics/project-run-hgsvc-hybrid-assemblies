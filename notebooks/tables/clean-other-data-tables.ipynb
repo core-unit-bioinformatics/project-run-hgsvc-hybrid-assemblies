{
 "cells": [
  {
   "cell_type": "code",
   "execution_count": 41,
   "id": "2bd9552d-d9fc-4cd9-9f15-4b0709388e5c",
   "metadata": {},
   "outputs": [
    {
     "name": "stdout",
     "output_type": "stream",
     "text": [
      "skip until debugged:  HiC\n",
      "IsoSeq\n",
      "RNASeq\n"
     ]
    }
   ],
   "source": [
    "import pathlib as pl\n",
    "import pandas as pd\n",
    "import re\n",
    "\n",
    "pd.set_option('future.no_silent_downcasting', True)\n",
    "\n",
    "%cd -q \"/home/ebertp/work/code/cubi/project-run-hgsvc-hybrid-assemblies/notebooks\"\n",
    "_PROJECT_CONFIG_NB = str(pl.Path(\"00_project_config.ipynb\").resolve(strict=True))\n",
    "\n",
    "%run $_PROJECT_CONFIG_NB\n",
    "\n",
    "_MYNAME=\"clean-other-data-tables\"\n",
    "_NBSTAMP=get_nb_stamp(_MYNAME)\n",
    "\n",
    "data_tables = [\n",
    "    (\"HiC\", PROJECT_BASE.joinpath(\"annotations\", \"external\", \"20240521_hgsvc_HiC_runs.PH.tsv\")),\n",
    "    (\"IsoSeq\", PROJECT_BASE.joinpath(\"annotations\", \"external\", \"20240521_hgsvc_isoseq_runs.PH.tsv\")),\n",
    "    (\"RNASeq\", PROJECT_BASE.joinpath(\"annotations\", \"external\", \"20240521_hgsvc_rnaseq_runs.PH.tsv\")),\n",
    "]\n",
    "\n",
    "keep_columns = [\n",
    "    \"accession\", \"project_accession\", \"sample_alias\", \"library_name\", \"file_name\"\n",
    "]\n",
    "\n",
    "def assert_sample_id(sample):\n",
    "\n",
    "    if sample in HGSVC_SAMPLES[\"sample\"].values:\n",
    "        norm_sample = sample\n",
    "    else:\n",
    "        if sample in [\"GM19320\", \"NA19320\", \"HG02016\", \"NA19219\"]:\n",
    "            norm_sample = None\n",
    "        elif sample == \"HG02818-replacement\":\n",
    "            norm_sample = \"HG02818\"\n",
    "        else:\n",
    "            raise ValueError(sample)\n",
    "\n",
    "    if norm_sample is not None:\n",
    "        sex = HGSVC_SAMPLES.loc[HGSVC_SAMPLES[\"sample\"] == norm_sample, \"sex\"].iloc[0]\n",
    "    else:\n",
    "        sex = None\n",
    "    return norm_sample, sex\n",
    "\n",
    "\n",
    "for data_label, data_table in data_tables:\n",
    "    if data_label == \"HiC\":\n",
    "        print(\"skip until debugged: \", data_label)\n",
    "        continue\n",
    "    print(data_label)\n",
    "    \n",
    "    table = pd.read_csv(data_table, sep=\"\\t\", header=0)\n",
    "    table.rename({\"id\": \"accession\"}, axis=1, inplace=True)\n",
    "    table = table[keep_columns].copy()\n",
    "    sample_sex = table[\"library_name\"].apply(assert_sample_id)\n",
    "    selector = [t[0] is not None for t in sample_sex]\n",
    "    table = table.loc[selector, :]\n",
    "    table.reset_index(drop=True, inplace=True)\n",
    "    sample_sex = [t for t in sample_sex if t[0] is not None]\n",
    "    sample_sex = pd.DataFrame.from_records(\n",
    "        sample_sex, index=table.index, columns=[\"sample\", \"sex\"]\n",
    "    )\n",
    "    table = table.join(sample_sex)\n",
    "    table.drop(\"library_name\", axis=1, inplace=True)\n",
    "    table.set_index([\"sample\", \"sex\"], inplace=True)\n",
    "    table.insert(0, \"data_type\", data_label)\n",
    "    table.sort_index(inplace=True)\n",
    "\n",
    "    out_file_name = f\"table_SXPE_{data_label}_accessions.tsv\"\n",
    "    out_file_path = TABLE_OUT_SUPPL.joinpath(out_file_name)\n",
    "    table.to_csv(out_file_path, sep=\"\\t\", header=True, index=True)\n",
    "    \n",
    "    "
   ]
  }
 ],
 "metadata": {
  "kernelspec": {
   "display_name": "Python 3 (ipykernel)",
   "language": "python",
   "name": "python3"
  },
  "language_info": {
   "codemirror_mode": {
    "name": "ipython",
    "version": 3
   },
   "file_extension": ".py",
   "mimetype": "text/x-python",
   "name": "python",
   "nbconvert_exporter": "python",
   "pygments_lexer": "ipython3",
   "version": "3.10.8"
  }
 },
 "nbformat": 4,
 "nbformat_minor": 5
}
