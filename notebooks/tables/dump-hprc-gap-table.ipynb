{
 "cells": [
  {
   "cell_type": "code",
   "execution_count": 30,
   "id": "3d212c0b-aba8-4487-8689-f9bd8d78e835",
   "metadata": {},
   "outputs": [
    {
     "name": "stdout",
     "output_type": "stream",
     "text": [
      "count    520.000000\n",
      "mean      86.339615\n",
      "std       22.385166\n",
      "min        0.000000\n",
      "25%       88.500000\n",
      "50%       95.400000\n",
      "75%       97.700000\n",
      "max      100.000000\n",
      "Name: closed_in_hap_pct, dtype: float64\n"
     ]
    },
    {
     "ename": "AttributeError",
     "evalue": "'Pandas' object has no attribute 'closed_in_hap'",
     "output_type": "error",
     "traceback": [
      "\u001b[0;31m---------------------------------------------------------------------------\u001b[0m",
      "\u001b[0;31mAttributeError\u001b[0m                            Traceback (most recent call last)",
      "Cell \u001b[0;32mIn[30], line 55\u001b[0m\n\u001b[1;32m     53\u001b[0m \u001b[38;5;28mprint\u001b[39m(summary\u001b[38;5;241m.\u001b[39mloc[select_auto, \u001b[38;5;124m\"\u001b[39m\u001b[38;5;124mclosed_in_hap_pct\u001b[39m\u001b[38;5;124m\"\u001b[39m]\u001b[38;5;241m.\u001b[39mdescribe())    \n\u001b[1;32m     54\u001b[0m \u001b[38;5;28;01mfor\u001b[39;00m row \u001b[38;5;129;01min\u001b[39;00m summary\u001b[38;5;241m.\u001b[39mitertuples():\n\u001b[0;32m---> 55\u001b[0m     \u001b[38;5;28mprint\u001b[39m(\u001b[43mrow\u001b[49m\u001b[38;5;241;43m.\u001b[39;49m\u001b[43mclosed_in_hap\u001b[49m)\n",
      "\u001b[0;31mAttributeError\u001b[0m: 'Pandas' object has no attribute 'closed_in_hap'"
     ]
    }
   ],
   "source": [
    "import pathlib as pl\n",
    "import pandas as pd\n",
    "import statistics\n",
    "\n",
    "pd.set_option('future.no_silent_downcasting', True)\n",
    "\n",
    "%cd -q \"/home/ebertp/work/code/cubi/project-run-hgsvc-hybrid-assemblies/notebooks\"\n",
    "_PROJECT_CONFIG_NB = str(pl.Path(\"00_project_config.ipynb\").resolve(strict=True))\n",
    "\n",
    "%run $_PROJECT_CONFIG_NB\n",
    "\n",
    "summary_file = pl.Path(\n",
    "    \"/home/ebertp/work/projects/hgsvc/2024_gap_eval/SAMPLES.vrk-ps-sseq.t2tv2.hprc-gaps.ctg-summary-1pct.tsv\"\n",
    ")\n",
    "summary = pd.read_csv(summary_file, sep=\"\\t\", header=0)\n",
    "\n",
    "loc_columns = [c for c in summary.columns if c.endswith(\"loc_exists\")]\n",
    "\n",
    "summary[\"max_closed_haps\"] = 130\n",
    "summary.loc[summary[\"chrom\"] == \"chrY\", \"max_closed_haps\"] = 30\n",
    "summary.loc[summary[\"chrom\"] == \"chrX\", \"max_closed_haps\"] = 100\n",
    "\n",
    "male_columns = []\n",
    "female_columns = []\n",
    "\n",
    "for column in summary.columns:\n",
    "    if not column.endswith(\".sex\"):\n",
    "        continue\n",
    "    hap_sex = summary[column].iloc[0]\n",
    "    stat_column = column.replace(\"sex\", \"closed_1pct\")\n",
    "    if hap_sex == \"male\":\n",
    "        male_columns.append(stat_column)\n",
    "    else:\n",
    "        female_columns.append(stat_column)\n",
    "\n",
    "any_columns = male_columns + female_columns\n",
    "\n",
    "closed_haps = []\n",
    "for row in summary.itertuples():\n",
    "    if row.chrom == \"chrY\":\n",
    "        agg = (summary.loc[row.Index, male_columns] > 0).sum()\n",
    "    elif row.chrom == \"chrX\":\n",
    "        agg = (summary.loc[row.Index, female_columns] > 0).sum()\n",
    "    else:\n",
    "        agg = (summary.loc[row.Index, any_columns] > 0).sum()\n",
    "    closed_haps.append(agg)\n",
    "\n",
    "summary[\"closed_in_hap_n\"] = closed_haps\n",
    "summary[\"closed_in_hap_pct\"] = (summary[\"closed_in_hap_n\"]/summary[\"max_closed_haps\"] * 100).round(1)\n",
    "\n",
    "select_auto = ~summary[\"chrom\"].isin([\"chrX\", \"chrY\"])\n",
    "\n",
    "print(summary.loc[select_auto, \"closed_in_hap_pct\"].describe())    \n",
    "for row in summary.itertuples():\n",
    "    print(row.closed_in_hap)"
   ]
  }
 ],
 "metadata": {
  "kernelspec": {
   "display_name": "Python 3 (ipykernel)",
   "language": "python",
   "name": "python3"
  },
  "language_info": {
   "codemirror_mode": {
    "name": "ipython",
    "version": 3
   },
   "file_extension": ".py",
   "mimetype": "text/x-python",
   "name": "python",
   "nbconvert_exporter": "python",
   "pygments_lexer": "ipython3",
   "version": "3.10.8"
  }
 },
 "nbformat": 4,
 "nbformat_minor": 5
}
