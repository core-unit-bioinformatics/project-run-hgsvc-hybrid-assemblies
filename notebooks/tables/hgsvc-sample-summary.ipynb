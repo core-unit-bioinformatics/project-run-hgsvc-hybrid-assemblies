{
 "cells": [
  {
   "cell_type": "code",
   "execution_count": 6,
   "id": "3641c4e1-affd-418f-ad95-dff8060cf824",
   "metadata": {},
   "outputs": [
    {
     "name": "stdout",
     "output_type": "stream",
     "text": [
      "sex\n",
      "female    35\n",
      "male      30\n",
      "Name: count, dtype: int64\n",
      "supergroup\n",
      "AFR        22\n",
      "EAS        10\n",
      "AMR         9\n",
      "SAS         8\n",
      "EUR         8\n",
      "AFR|AMR     8\n",
      "Name: count, dtype: int64\n",
      "Pandas(Index=0, order_num=1, phase='Yr1', sample='NA19238', family='Y117', member='mother', population='YRI', supergroup='AFR', sex='female', is_child=False, batch_num=3, rgb_rel_pop='1.0,0.725,0.2', rgb_rel_super='1.0,0.804,0.2', hifi_cov=110.5, hifi_n50=18.2, ont_cov=55.2, ont_n50=161.7, ontul_cov=39.4, ontul_n50=212.7)\n"
     ]
    },
    {
     "ename": "RuntimeError",
     "evalue": "No active exception to reraise",
     "output_type": "error",
     "traceback": [
      "\u001b[0;31m---------------------------------------------------------------------------\u001b[0m",
      "\u001b[0;31mRuntimeError\u001b[0m                              Traceback (most recent call last)",
      "Cell \u001b[0;32mIn[6], line 20\u001b[0m\n\u001b[1;32m     18\u001b[0m \u001b[38;5;28;01mfor\u001b[39;00m row \u001b[38;5;129;01min\u001b[39;00m HGSVC_SAMPLES\u001b[38;5;241m.\u001b[39mitertuples():\n\u001b[1;32m     19\u001b[0m     \u001b[38;5;28mprint\u001b[39m(row)\n\u001b[0;32m---> 20\u001b[0m     \u001b[38;5;28;01mraise\u001b[39;00m\n",
      "\u001b[0;31mRuntimeError\u001b[0m: No active exception to reraise"
     ]
    }
   ],
   "source": [
    "import pathlib as pl\n",
    "import pandas as pd\n",
    "import re\n",
    "\n",
    "pd.set_option('future.no_silent_downcasting', True)\n",
    "\n",
    "%cd -q \"/home/ebertp/work/code/cubi/project-run-hgsvc-hybrid-assemblies/notebooks\"\n",
    "_PROJECT_CONFIG_NB = str(pl.Path(\"00_project_config.ipynb\").resolve(strict=True))\n",
    "\n",
    "%run $_PROJECT_CONFIG_NB\n",
    "\n",
    "_MYNAME=\"hgsvc-sample-summary\"\n",
    "_NBSTAMP=get_nb_stamp(_MYNAME)\n",
    "\n",
    "print(HGSVC_SAMPLES[\"sex\"].value_counts())\n",
    "print(HGSVC_SAMPLES[\"supergroup\"].value_counts())\n",
    "\n",
    "for row in HGSVC_SAMPLES.itertuples():\n",
    "    print(row)\n",
    "    raise"
   ]
  }
 ],
 "metadata": {
  "kernelspec": {
   "display_name": "Python 3 (ipykernel)",
   "language": "python",
   "name": "python3"
  },
  "language_info": {
   "codemirror_mode": {
    "name": "ipython",
    "version": 3
   },
   "file_extension": ".py",
   "mimetype": "text/x-python",
   "name": "python",
   "nbconvert_exporter": "python",
   "pygments_lexer": "ipython3",
   "version": "3.10.8"
  }
 },
 "nbformat": 4,
 "nbformat_minor": 5
}
