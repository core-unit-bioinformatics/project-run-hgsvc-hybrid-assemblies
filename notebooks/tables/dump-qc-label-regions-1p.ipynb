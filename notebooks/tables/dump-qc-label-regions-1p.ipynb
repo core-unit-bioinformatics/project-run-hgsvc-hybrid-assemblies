{
 "cells": [
  {
   "cell_type": "code",
   "execution_count": 20,
   "id": "620e9fcf-57d3-4879-92d3-391ad7144f20",
   "metadata": {},
   "outputs": [
    {
     "name": "stdout",
     "output_type": "stream",
     "text": [
      "count 65\n",
      "mean 22104755\n",
      "std 8594619\n",
      "min 7779989\n",
      "25% 16304358\n",
      "50% 21180543\n",
      "75% 25420783\n",
      "max 55043277\n"
     ]
    }
   ],
   "source": [
    "import pathlib as pl\n",
    "import pandas as pd\n",
    "import re\n",
    "\n",
    "pd.set_option('future.no_silent_downcasting', True)\n",
    "\n",
    "%cd -q \"/home/ebertp/work/code/cubi/project-run-hgsvc-hybrid-assemblies/notebooks\"\n",
    "_PROJECT_CONFIG_NB = str(pl.Path(\"00_project_config.ipynb\").resolve(strict=True))\n",
    "\n",
    "%run $_PROJECT_CONFIG_NB\n",
    "\n",
    "_MYNAME=\"norm-qv-est-table-header\"\n",
    "_NBSTAMP=get_nb_stamp(_MYNAME)\n",
    "\n",
    "ASSEMBLER = \"verkko\"\n",
    "\n",
    "TABLE_FOLDER = PROJECT_DATA_ROOT.joinpath(\n",
    "    \"2024_merged_labels/summaries\"\n",
    ")\n",
    "\n",
    "for table_file in TABLE_FOLDER.glob(\"*subset-1p.regions.stats.tsv\"):\n",
    "    if \"wg\" in table_file.name:\n",
    "        continue\n",
    "    df = pd.read_csv(table_file, sep=\"\\t\", header=0)\n",
    "    df[\"sample\"] = df[\"sample\"].apply(lambda x: x.split(\".\")[0])\n",
    "    df.insert(1, \"assembler\", ASSEMBLER)\n",
    "    pct_clean = (df[\"clean_regions_bp\"] / (df[\"error_regions_bp\"] + df[\"clean_regions_bp\"]) * 100).round(1)\n",
    "    df.insert(3, \"clean_regions_pct\", pct_clean)\n",
    "    for stat, num in df[\"clean_region_size_max\"].describe().items():\n",
    "        print(stat, int(num))"
   ]
  }
 ],
 "metadata": {
  "kernelspec": {
   "display_name": "Python 3 (ipykernel)",
   "language": "python",
   "name": "python3"
  },
  "language_info": {
   "codemirror_mode": {
    "name": "ipython",
    "version": 3
   },
   "file_extension": ".py",
   "mimetype": "text/x-python",
   "name": "python",
   "nbconvert_exporter": "python",
   "pygments_lexer": "ipython3",
   "version": "3.10.8"
  }
 },
 "nbformat": 4,
 "nbformat_minor": 5
}
