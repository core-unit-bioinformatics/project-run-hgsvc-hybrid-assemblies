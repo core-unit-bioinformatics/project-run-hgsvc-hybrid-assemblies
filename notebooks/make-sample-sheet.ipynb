{
 "cells": [
  {
   "cell_type": "code",
   "execution_count": 27,
   "id": "01ab0207",
   "metadata": {},
   "outputs": [
    {
     "name": "stdout",
     "output_type": "stream",
     "text": [
      "133\n",
      "defaultdict(<class 'collections.Counter'>, {'HG01952': Counter({'ont': 6, 'hifi': 4}), 'HG01243': Counter({'ont': 9, 'hifi': 3}), 'HG00621': Counter({'ont': 9, 'hifi': 4}), 'HG02559': Counter({'hifi': 5}), 'HG00673': Counter({'ont': 9, 'hifi': 4}), 'HG03492': Counter({'ont': 9, 'hifi': 3}), 'HG01891': Counter({'hifi': 4}), 'HG01109': Counter({'ont': 9, 'hifi': 3}), 'HG01258': Counter({'ont': 6, 'hifi': 4}), 'HG01361': Counter({'hifi': 5}), 'HG02572': Counter({'ont': 9, 'hifi': 4}), 'HG03579': Counter({'ont': 6, 'hifi': 4}), 'HG01358': Counter({'ont': 6, 'hifi': 4}), 'HG01106': Counter({'ont': 9, 'hifi': 4}), 'HG02486': Counter({'ont': 9, 'hifi': 6}), 'HG01928': Counter({'ont': 9, 'hifi': 4}), 'HG02717': Counter({'ont': 9, 'hifi': 4}), 'HG02257': Counter({'hifi': 4}), 'HG03471': Counter({'ont': 9, 'hifi': 4}), 'HG01123': Counter({'hifi': 4}), 'HG02666': Counter({'hifi': 14, 'ont': 2}), 'HG03248': Counter({'hifi': 10, 'ont': 3}), 'NA19650': Counter({'hifi': 6, 'ont': 3}), 'HG00732': Counter({'hifi': 6}), 'HG00512': Counter({'hifi': 12, 'ont': 3}), 'HG02818': Counter({'hifi': 14}), 'HG04036': Counter({'hifi': 5}), 'GM19129': Counter({'hifi': 8}), 'HG00733': Counter({'ont': 76, 'hifi': 19}), 'HG03486': Counter({'hifi': 8}), 'NA19317': Counter({'hifi': 11, 'ont': 3}), 'HG00513': Counter({'hifi': 12}), 'GM19434': Counter({'hifi': 5}), 'HG02492': Counter({'hifi': 3, 'ont': 3}), 'GM18989': Counter({'hifi': 13}), 'HG03452': Counter({'hifi': 3}), 'HG03371': Counter({'hifi': 3, 'ont': 2}), 'HG03732': Counter({'hifi': 3, 'ont': 3}), 'HG02011': Counter({'hifi': 3, 'ont': 3}), 'HG03065': Counter({'hifi': 3, 'ont': 2}), 'HG01352': Counter({'hifi': 5}), 'HG00358': Counter({'hifi': 10, 'ont': 3}), 'GM21487': Counter({'hifi': 5}), 'HG02769': Counter({'hifi': 4}), 'NA19240': Counter({'hifi': 12}), 'HG03456': Counter({'hifi': 3, 'ont': 2}), 'NA18534': Counter({'hifi': 6, 'ont': 2}), 'GM19320': Counter({'hifi': 4}), 'NA19384': Counter({'hifi': 11, 'ont': 3}), 'HG01505': Counter({'ont': 4, 'hifi': 3}), 'HG01596': Counter({'ont': 4, 'hifi': 3}), 'HG03125': Counter({'hifi': 8}), 'NA19705': Counter({'hifi': 6, 'ont': 2}), 'HG00731': Counter({'hifi': 10, 'ont': 4}), 'HG02953': Counter({'ont': 18, 'hifi': 4}), 'HG04217': Counter({'hifi': 6, 'ont': 2}), 'HG03009': Counter({'hifi': 6, 'ont': 3}), 'HG00514': Counter({'hifi': 6}), 'HG03520': Counter({'hifi': 6, 'ont': 2}), 'GM19331': Counter({'hifi': 6}), 'NA19347': Counter({'hifi': 8, 'ont': 3}), 'HG02106': Counter({'hifi': 10, 'ont': 2}), 'NA19239': Counter({'hifi': 14, 'ont': 3}), 'GM19836': Counter({'hifi': 4}), 'HG03807': Counter({'hifi': 6, 'ont': 2}), 'GM20355': Counter({'hifi': 5}), 'HG01457': Counter({'hifi': 14, 'ont': 2}), 'HG01890': Counter({'hifi': 10, 'ont': 2}), 'NA19238': Counter({'hifi': 16}), 'HG00096': Counter({'hifi': 3, 'ont': 3}), 'HG00268': Counter({'hifi': 6, 'ont': 2}), 'NA18989': Counter({'hifi': 2, 'ont': 2}), 'HG02282': Counter({'hifi': 6, 'ont': 1}), 'NA20509': Counter({'hifi': 4, 'ont': 3}), 'HG02554': Counter({'ont': 18, 'hifi': 4}), 'HG02059': Counter({'hifi': 5}), 'NA24385': Counter({'ont': 24, 'hifi': 13}), 'HG002': Counter({'hifi': 13, 'ont': 6}), 'NA19331': Counter({'ont': 2}), 'NA19434': Counter({'ont': 2}), 'NA19836': Counter({'ont': 2})})\n"
     ]
    }
   ],
   "source": [
    "import pathlib as pl\n",
    "import re as re\n",
    "import collections as col\n",
    "\n",
    "local_run = True\n",
    "\n",
    "local_imbb_mount = pl.Path(\"/mounts/hilbert/project/projects/medbioinf\")\n",
    "remote_imbb_path = pl.Path(\"/gpfs/project/projects/medbioinf\")\n",
    "\n",
    "data_root_path = local_imbb_mount if local_run else remote_imbb_path\n",
    "\n",
    "sample_re = re.compile(\"((HG|GM|NA)[0-9]{3,5})\")\n",
    "\n",
    "data_sub_folders = {\n",
    "    \"hifi\": [\n",
    "        \"data/hprc_hifi\", \"data/hgsvc_hifi\",\n",
    "        \"data/00_RESTRUCTURE/project-centric/hgsvc/pacbio_hifi\",\n",
    "        \"data/00_RESTRUCTURE/project-centric/unknown/pacbio\"\n",
    "    ],\n",
    "    \"ont\": [\n",
    "        \"data/00_RESTRUCTURE/project-centric/unknown/nanopore\",\n",
    "        \"data/hprc_ont\", \"data/hgsvc_ontul\"\n",
    "    ]\n",
    "}\n",
    "\n",
    "data_cache = col.defaultdict(set)\n",
    "sample_counter = col.defaultdict(col.Counter)\n",
    "\n",
    "for read_type, folders in data_sub_folders.items():\n",
    "    for folder in folders:\n",
    "        full_path = data_root_path.joinpath(folder)\n",
    "        for file in full_path.glob(\"**/*.fastq.gz\"):\n",
    "            search_only = str(file).strip(str(full_path))\n",
    "            remote_path = remote_imbb_path.joinpath(folder, search_only)\n",
    "            for mobj in re.finditer(sample_re, str(search_only)):\n",
    "                name = mobj.group(0)\n",
    "                if len(name) < 5:\n",
    "                    continue\n",
    "                data_cache[(name, read_type)].add(remote_path)\n",
    "                sample_counter[name][read_type] += 1\n",
    "print(len(data_cache))\n",
    "            \n",
    "print(sample_counter)"
   ]
  }
 ],
 "metadata": {
  "kernelspec": {
   "display_name": "Python 3 (ipykernel)",
   "language": "python",
   "name": "python3"
  },
  "language_info": {
   "codemirror_mode": {
    "name": "ipython",
    "version": 3
   },
   "file_extension": ".py",
   "mimetype": "text/x-python",
   "name": "python",
   "nbconvert_exporter": "python",
   "pygments_lexer": "ipython3",
   "version": "3.9.15"
  }
 },
 "nbformat": 4,
 "nbformat_minor": 5
}
