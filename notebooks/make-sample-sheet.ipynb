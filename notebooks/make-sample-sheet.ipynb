{
 "cells": [
  {
   "cell_type": "code",
   "execution_count": 8,
   "id": "01ab0207",
   "metadata": {},
   "outputs": [
    {
     "name": "stdout",
     "output_type": "stream",
     "text": [
      "HG00268\n",
      "HG00512\n",
      "HG00731\n",
      "HG00733\n",
      "HG01457\n",
      "HG02106\n",
      "HG02282\n",
      "HG02666\n",
      "HG03248\n",
      "HG03520\n",
      "HG03807\n",
      "HG04217\n",
      "NA18989\n",
      "NA19239\n",
      "NA19317\n",
      "NA19331\n",
      "NA19347\n",
      "NA19384\n",
      "NA19434\n",
      "NA19836\n",
      "NA24385\n"
     ]
    }
   ],
   "source": [
    "import pathlib as pl\n",
    "import re as re\n",
    "import collections as col\n",
    "\n",
    "local_run = True\n",
    "\n",
    "local_imbb_mount = pl.Path(\"/mounts/hilbert/project/projects/medbioinf\")\n",
    "remote_imbb_path = pl.Path(\"/gpfs/project/projects/medbioinf\")\n",
    "\n",
    "data_root_path = local_imbb_mount if local_run else remote_imbb_path\n",
    "\n",
    "sample_fofn_path = data_root_path.joinpath(\"data/00_RESTRUCTURE/sample-centric\")\n",
    "\n",
    "samples = []\n",
    "for sample_folder in sample_fofn_path.iterdir():\n",
    "    if sample_folder.is_symlink():\n",
    "        continue\n",
    "    sample_name = sample_folder.name\n",
    "    if sample_name.startswith(\"GM\") or sample_name == \"HG002\":\n",
    "        continue\n",
    "    hifi_data = list(sample_folder.glob(\"*hifi*fastq*.fofn\"))\n",
    "    ont_data = list(sample_folder.glob(\"*ont*fastq*.fofn\"))\n",
    "    if hifi_data and ont_data:\n",
    "        samples.append(sample_name)\n",
    "        \n",
    "print(\"\\n\".join(sorted(samples)))\n",
    "    \n",
    "    "
   ]
  }
 ],
 "metadata": {
  "kernelspec": {
   "display_name": "Python 3 (ipykernel)",
   "language": "python",
   "name": "python3"
  },
  "language_info": {
   "codemirror_mode": {
    "name": "ipython",
    "version": 3
   },
   "file_extension": ".py",
   "mimetype": "text/x-python",
   "name": "python",
   "nbconvert_exporter": "python",
   "pygments_lexer": "ipython3",
   "version": "3.9.15"
  }
 },
 "nbformat": 4,
 "nbformat_minor": 5
}
